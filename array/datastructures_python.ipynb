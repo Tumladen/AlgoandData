{
 "cells": [
  {
   "cell_type": "code",
   "execution_count": 1,
   "id": "7c427787-7d2c-4bc9-9cd8-f381860c80f4",
   "metadata": {},
   "outputs": [],
   "source": [
    "from array import array\n",
    "from memory_profiler import profile"
   ]
  },
  {
   "cell_type": "code",
   "execution_count": 48,
   "id": "c3570aa6-f084-4259-9ed1-bdbdd313a5f2",
   "metadata": {},
   "outputs": [
    {
     "name": "stdout",
     "output_type": "stream",
     "text": [
      "79.8 ns ± 0.205 ns per loop (mean ± std. dev. of 7 runs, 10,000,000 loops each)\n"
     ]
    }
   ],
   "source": [
    "#create an array time\n",
    "%timeit m_arr = array('i')"
   ]
  },
  {
   "cell_type": "code",
   "execution_count": 47,
   "id": "b86f1243-19cd-4db4-a458-e29e2966e9e0",
   "metadata": {},
   "outputs": [
    {
     "name": "stdout",
     "output_type": "stream",
     "text": [
      "8.3 ns ± 0.0847 ns per loop (mean ± std. dev. of 7 runs, 100,000,000 loops each)\n"
     ]
    }
   ],
   "source": [
    "#create list time\n",
    "%timeit list = ()"
   ]
  },
  {
   "cell_type": "code",
   "execution_count": 49,
   "id": "2f7156c5-17b0-462f-93b9-48f07729b59c",
   "metadata": {},
   "outputs": [
    {
     "name": "stdout",
     "output_type": "stream",
     "text": [
      "19.4 ns ± 0.0944 ns per loop (mean ± std. dev. of 7 runs, 100,000,000 loops each)\n"
     ]
    }
   ],
   "source": [
    "#create tuple time\n",
    "%timeit m_tuple = tuple()"
   ]
  },
  {
   "cell_type": "code",
   "execution_count": 50,
   "id": "57a31f7b-c89a-4e2f-92f1-9d947cb48faa",
   "metadata": {},
   "outputs": [
    {
     "name": "stdout",
     "output_type": "stream",
     "text": [
      "38.2 ns ± 0.314 ns per loop (mean ± std. dev. of 7 runs, 10,000,000 loops each)\n"
     ]
    }
   ],
   "source": [
    "#create set time\n",
    "%timeit m_set = set()"
   ]
  },
  {
   "cell_type": "code",
   "execution_count": 6,
   "id": "104a1ca9-e621-412a-9d3c-dfa54dde9d94",
   "metadata": {},
   "outputs": [],
   "source": [
    "# now we are going to test their memory allocation "
   ]
  },
  {
   "cell_type": "code",
   "execution_count": 41,
   "id": "9926005d-0d7f-4a87-b336-48c74072f1ae",
   "metadata": {},
   "outputs": [],
   "source": [
    "#test array\n",
    "@profile\n",
    "def test_memory_array():\n",
    "    m_arr_1 = array('i', [i for i in range(1000000)])"
   ]
  },
  {
   "cell_type": "code",
   "execution_count": 61,
   "id": "3a1cb3f2-11d5-4fd1-a75f-d3502dff62de",
   "metadata": {},
   "outputs": [
    {
     "name": "stdout",
     "output_type": "stream",
     "text": [
      "Filename: C:\\Users\\Dogukan\\AppData\\Local\\Temp\\ipykernel_19544\\236109210.py\n",
      "\n",
      "Line #    Mem usage    Increment  Occurrences   Line Contents\n",
      "=============================================================\n",
      "     1     68.8 MiB     68.8 MiB           1   @profile\n",
      "     2                                         def test_memory_array():\n",
      "     3    105.0 MiB      5.4 MiB     1000003       m_arr_1 = array('i', [i for i in range(1000000)])\n",
      "\n",
      "\n"
     ]
    }
   ],
   "source": [
    "test_memory_array()"
   ]
  },
  {
   "cell_type": "code",
   "execution_count": 62,
   "id": "9c8c7355-13b0-4655-82af-57661f4925b8",
   "metadata": {},
   "outputs": [],
   "source": [
    "#test list\n",
    "@profile\n",
    "def test_list_memory():\n",
    "    m_list = [i for i in range(1000000)]"
   ]
  },
  {
   "cell_type": "code",
   "execution_count": 68,
   "id": "ee855c3d-58e8-4283-820f-4c1c678350aa",
   "metadata": {},
   "outputs": [
    {
     "name": "stdout",
     "output_type": "stream",
     "text": [
      "Filename: C:\\Users\\Dogukan\\AppData\\Local\\Temp\\ipykernel_19544\\2188032791.py\n",
      "\n",
      "Line #    Mem usage    Increment  Occurrences   Line Contents\n",
      "=============================================================\n",
      "     2     69.5 MiB     69.5 MiB           1   @profile\n",
      "     3                                         def test_list_memory():\n",
      "     4    105.0 MiB     35.5 MiB     1000003       m_list = [i for i in range(1000000)]\n",
      "\n",
      "\n"
     ]
    }
   ],
   "source": [
    "test_list_memory()"
   ]
  },
  {
   "cell_type": "code",
   "execution_count": 69,
   "id": "1ec232d1-4d81-47e0-88d9-a8f25b7142c5",
   "metadata": {},
   "outputs": [],
   "source": [
    "#test tuple\n",
    "@profile\n",
    "def test_memory_tuple():\n",
    "    m_tuple = tuple(i for i in range(1000000))"
   ]
  },
  {
   "cell_type": "code",
   "execution_count": 70,
   "id": "df6f8793-5708-4a09-bcd5-a20d1c52f073",
   "metadata": {},
   "outputs": [
    {
     "name": "stdout",
     "output_type": "stream",
     "text": [
      "Filename: C:\\Users\\Dogukan\\AppData\\Local\\Temp\\ipykernel_19544\\4288334681.py\n",
      "\n",
      "Line #    Mem usage    Increment  Occurrences   Line Contents\n",
      "=============================================================\n",
      "     2     71.4 MiB     71.4 MiB           1   @profile\n",
      "     3                                         def test_memory_tuple():\n",
      "     4    105.6 MiB     33.6 MiB     2000003       m_tuple = tuple(i for i in range(1000000))\n",
      "\n",
      "\n"
     ]
    }
   ],
   "source": [
    "test_memory_tuple()"
   ]
  },
  {
   "cell_type": "code",
   "execution_count": 71,
   "id": "9b85a070-8fd1-4aa5-9376-47a309572315",
   "metadata": {},
   "outputs": [],
   "source": [
    "#test set\n",
    "@profile\n",
    "def test_memory_set():\n",
    "    m_test = set(i for i in range(1000000))"
   ]
  },
  {
   "cell_type": "code",
   "execution_count": 73,
   "id": "85ad71ef-69e0-4e0b-867e-d77e81f7a032",
   "metadata": {},
   "outputs": [
    {
     "name": "stdout",
     "output_type": "stream",
     "text": [
      "Filename: C:\\Users\\Dogukan\\AppData\\Local\\Temp\\ipykernel_19544\\3441204374.py\n",
      "\n",
      "Line #    Mem usage    Increment  Occurrences   Line Contents\n",
      "=============================================================\n",
      "     2     70.8 MiB     70.8 MiB           1   @profile\n",
      "     3                                         def test_memory_set():\n",
      "     4    129.4 MiB     58.6 MiB     2000003       m_test = set(i for i in range(1000000))\n",
      "\n",
      "\n"
     ]
    }
   ],
   "source": [
    "test_memory_set()"
   ]
  },
  {
   "cell_type": "code",
   "execution_count": null,
   "id": "2e26a058-4f54-4807-9f2c-d231b54a0034",
   "metadata": {},
   "outputs": [],
   "source": []
  }
 ],
 "metadata": {
  "kernelspec": {
   "display_name": "Python 3 (ipykernel)",
   "language": "python",
   "name": "python3"
  },
  "language_info": {
   "codemirror_mode": {
    "name": "ipython",
    "version": 3
   },
   "file_extension": ".py",
   "mimetype": "text/x-python",
   "name": "python",
   "nbconvert_exporter": "python",
   "pygments_lexer": "ipython3",
   "version": "3.10.9"
  }
 },
 "nbformat": 4,
 "nbformat_minor": 5
}
