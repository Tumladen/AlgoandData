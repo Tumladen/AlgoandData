{
 "cells": [
  {
   "cell_type": "markdown",
   "id": "29783389-6e07-405f-87e4-3fb3fb8ea9fc",
   "metadata": {},
   "source": [
    "### Stack\n",
    "it is almost the same as queu, but relies on lifo(last in first out) method."
   ]
  },
  {
   "cell_type": "code",
   "execution_count": null,
   "id": "902d2a6d-0bb2-4a03-af3e-62750a6a15e7",
   "metadata": {},
   "outputs": [],
   "source": [
    "class Node():\n",
    "    def __init__(self, value):\n",
    "        self.value = value\n",
    "        self.next = None\n",
    "    class Stack():\n",
    "    def __init__(self):\n",
    "        self.tail = None\n",
    "        self.head = None\n",
    "        self.length = 0\n",
    "    def enqueu(self,val):\n",
    "        self.length += 1\n",
    "        node = Node(val)\n",
    "        if not self.tail:\n",
    "            self.tail = self.head = node\n",
    "            return  \n",
    "        \n",
    "        self.tail.next = node\n",
    "        self.tail = node\n",
    "        \n",
    "    def deque(self):\n",
    "        if not self.tail:\n",
    "            return None\n",
    "        self.length -= 1\n",
    "        tail = self.tail\n",
    "        self.tail = self.tail.prev\n",
    "        tail.prev = None\n",
    "        return tail.value\n",
    "        \n",
    "    def peek(self):\n",
    "        return self.tail.value if self.tail is not None else None"
   ]
  }
 ],
 "metadata": {
  "kernelspec": {
   "display_name": "Python 3 (ipykernel)",
   "language": "python",
   "name": "python3"
  },
  "language_info": {
   "codemirror_mode": {
    "name": "ipython",
    "version": 3
   },
   "file_extension": ".py",
   "mimetype": "text/x-python",
   "name": "python",
   "nbconvert_exporter": "python",
   "pygments_lexer": "ipython3",
   "version": "3.10.9"
  }
 },
 "nbformat": 4,
 "nbformat_minor": 5
}
