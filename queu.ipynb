{
 "cells": [
  {
   "cell_type": "markdown",
   "id": "484c42b4-2868-478b-abdd-4d269d18b4e8",
   "metadata": {},
   "source": [
    "### Queu\n",
    "Queus work similar to linked lists. Only difference is uses fifo(first in first out)."
   ]
  },
  {
   "cell_type": "code",
   "execution_count": 17,
   "id": "4ee0e106-b7b1-4a32-b4eb-d29a2bf970ca",
   "metadata": {},
   "outputs": [],
   "source": [
    "class Node():\n",
    "    def __init__(self, value):\n",
    "        self.value = value\n",
    "        self.prev = None\n",
    "class Stack():\n",
    "    def __init__(self):\n",
    "        self.head = None\n",
    "        self.length = 0\n",
    "    def push(self,val):\n",
    "        self.length += 1\n",
    "        node = Node(val)\n",
    "        if not self.head:\n",
    "            self.head = node\n",
    "            return  \n",
    "        node.prev = self.head\n",
    "        self.head = node\n",
    "        \n",
    "    def pop(self):\n",
    "        self.length = max(0,self.length - 1)\n",
    "        if self.length == 0:\n",
    "            head = self.head\n",
    "            self.head = None\n",
    "            return head.value if self.head else None\n",
    "        head = self.head\n",
    "        self.head = head.prev\n",
    "\n",
    "        return head.value\n",
    "        \n",
    "    def peek(self):\n",
    "        return self.head.value if self.head is not None else None\n",
    "        \n",
    "        "
   ]
  },
  {
   "cell_type": "code",
   "execution_count": 18,
   "id": "0fa770e4-e36e-48f7-8b56-b02f8c704eb0",
   "metadata": {},
   "outputs": [],
   "source": [
    "myStack = Stack()\n",
    "for i in range(10):\n",
    "    myStack.push(i)"
   ]
  },
  {
   "cell_type": "code",
   "execution_count": 37,
   "id": "50bffc4e-44af-4bbb-85af-ce2c06ad743c",
   "metadata": {},
   "outputs": [
    {
     "name": "stdout",
     "output_type": "stream",
     "text": [
      "None\n"
     ]
    }
   ],
   "source": [
    "print(myStack.pop())"
   ]
  },
  {
   "cell_type": "code",
   "execution_count": 38,
   "id": "3ea42ed6-82af-46da-b8a7-c43ea36520bc",
   "metadata": {},
   "outputs": [
    {
     "name": "stdout",
     "output_type": "stream",
     "text": [
      "None\n"
     ]
    }
   ],
   "source": [
    "print(myStack.peek())"
   ]
  },
  {
   "cell_type": "code",
   "execution_count": null,
   "id": "44b8397d-b0f5-4ba5-b278-4ac9ac78e96c",
   "metadata": {},
   "outputs": [],
   "source": []
  }
 ],
 "metadata": {
  "kernelspec": {
   "display_name": "Python 3 (ipykernel)",
   "language": "python",
   "name": "python3"
  },
  "language_info": {
   "codemirror_mode": {
    "name": "ipython",
    "version": 3
   },
   "file_extension": ".py",
   "mimetype": "text/x-python",
   "name": "python",
   "nbconvert_exporter": "python",
   "pygments_lexer": "ipython3",
   "version": "3.10.9"
  }
 },
 "nbformat": 4,
 "nbformat_minor": 5
}
