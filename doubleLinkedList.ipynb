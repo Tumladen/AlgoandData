{
 "cells": [
  {
   "cell_type": "markdown",
   "id": "a1a920d5-bab2-4c49-b563-bb1ecf183002",
   "metadata": {},
   "source": [
    "### Double Linked List\n",
    "Double linked lists are a neat way of stroing data. It doesn't have some functions like arrays do, such as indexing. But we can add them. Also, you don't have to allocate space in advance. Other than that, pushing and pulling from it is easy and constant. They take o(c)  time. Finding takes o(n) time. "
   ]
  },
  {
   "cell_type": "code",
   "execution_count": 19,
   "id": "cda66719-2fb5-41b5-b980-8c939be119a1",
   "metadata": {},
   "outputs": [],
   "source": [
    "class Node():\n",
    "    def __init__(self, value):\n",
    "        self.value = value\n",
    "        self.next = None\n",
    "        self.prev = None\n",
    "    def get(self):\n",
    "        return self.value\n",
    "class DoubleLinkedList():\n",
    "    def __init__(self):\n",
    "        self.head = None\n",
    "        self.tail = None\n",
    "        self.length = 0\n",
    "        \n",
    "    def deletion(self, idx):\n",
    "        if idx == self.length:\n",
    "            node_deleted = self.tail\n",
    "            self.tail = node_deleted.prev\n",
    "            self.tail.next = None\n",
    "            self.length -= 1\n",
    "            return node_deleted\n",
    "        if idx == 0:\n",
    "            node_deleted = self.head\n",
    "            self.head = node_deleted.next\n",
    "            self.head.prev = None\n",
    "            self.length -= 1\n",
    "            return node_deleted\n",
    "        node_deleted = self.find(idx)\n",
    "        node_deleted.prev.next = node_deleted.next\n",
    "        node_deleted.next.prev = node_deleted.prev\n",
    "        self.length -= 1\n",
    "        return node_deleted.get()\n",
    "    \n",
    "    def insertion(self, idx, val):\n",
    "        node = Node(val)\n",
    "        if not self.head:\n",
    "            self.head = node\n",
    "            self.tail = node\n",
    "        if idx <= 0:\n",
    "            node.next = self.head\n",
    "            self.head.prev = node\n",
    "            self.head = node\n",
    "        elif idx >= self.length:\n",
    "            node.prev = self.tail\n",
    "            self.tail.next = node\n",
    "            self.tail = node\n",
    "        else:    \n",
    "            prev_node = self.find(idx - 1)\n",
    "            next_node = prev_node.next\n",
    "            node.prev = prev_node\n",
    "            node.next = next_node\n",
    "            prev_node.next = node\n",
    "            next_node.prev = node \n",
    "        self.length += 1    \n",
    "        return True\n",
    "\n",
    "    def peek(self):\n",
    "        link_list = list()\n",
    "        curr = self.head\n",
    "        for i in range(self.length):\n",
    "            link_list.append(curr)\n",
    "            curr = curr.next\n",
    "        return link_list\n",
    "            \n",
    "    def find(self, idx):\n",
    "        if not self.head:\n",
    "            return None\n",
    "        curr = self.head\n",
    "        for i in range(self.length):\n",
    "            if i == idx:\n",
    "                return curr\n",
    "            curr = curr.next\n",
    "        "
   ]
  },
  {
   "cell_type": "code",
   "execution_count": 25,
   "id": "1ed9b108-1f65-4da6-8d4e-1a2feaafcf7e",
   "metadata": {},
   "outputs": [],
   "source": [
    "linkedList = DoubleLinkedList()\n",
    "for i in range(10):\n",
    "    linkedList.insertion(i,i)\n"
   ]
  },
  {
   "cell_type": "code",
   "execution_count": 26,
   "id": "64b4e99d-a854-459d-bef6-77bce771a7ed",
   "metadata": {},
   "outputs": [
    {
     "name": "stdout",
     "output_type": "stream",
     "text": [
      "0\n",
      "1\n",
      "2\n",
      "3\n",
      "4\n",
      "5\n",
      "6\n",
      "7\n",
      "8\n",
      "9\n"
     ]
    }
   ],
   "source": [
    "linkItems = linkedList.peek()\n",
    "for i in linkItems:\n",
    "    print(i.get())"
   ]
  },
  {
   "cell_type": "code",
   "execution_count": 27,
   "id": "1caa3a64-6844-4634-afa1-06dc0c070996",
   "metadata": {},
   "outputs": [
    {
     "data": {
      "text/plain": [
       "3"
      ]
     },
     "execution_count": 27,
     "metadata": {},
     "output_type": "execute_result"
    }
   ],
   "source": [
    "linkedList.deletion(3).get()"
   ]
  },
  {
   "cell_type": "code",
   "execution_count": null,
   "id": "8209a0a6-2e6b-41e3-b588-1965ce24b2f6",
   "metadata": {},
   "outputs": [],
   "source": []
  }
 ],
 "metadata": {
  "kernelspec": {
   "display_name": "Python 3 (ipykernel)",
   "language": "python",
   "name": "python3"
  },
  "language_info": {
   "codemirror_mode": {
    "name": "ipython",
    "version": 3
   },
   "file_extension": ".py",
   "mimetype": "text/x-python",
   "name": "python",
   "nbconvert_exporter": "python",
   "pygments_lexer": "ipython3",
   "version": "3.10.9"
  }
 },
 "nbformat": 4,
 "nbformat_minor": 5
}
